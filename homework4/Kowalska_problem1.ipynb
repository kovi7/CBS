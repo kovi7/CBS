{
 "cells": [
  {
   "cell_type": "markdown",
   "metadata": {
    "id": "Oy0_hab6jlne"
   },
   "source": [
    "## Fashion MNIST (Homework dataset)\n"
   ]
  },
  {
   "cell_type": "markdown",
   "metadata": {
    "id": "lRBS_gV0abS7"
   },
   "source": [
    "The MNIST dataset is not too demanding, let's try something a little more difficult - Fashion MNIST.\n",
    "\n",
    "[LINK TO IMAGE](https://s3-eu-central-1.amazonaws.com/zalando-wp-zalando-research-production/2017/08/fashion-mnist-sprite.png)\n",
    "\n",
    "Check out labels on [GitHub](https://github.com/zalandoresearch/fashion-mnist):"
   ]
  },
  {
   "cell_type": "markdown",
   "metadata": {
    "id": "_JH978H1jrLk"
   },
   "source": [
    "# **HOMEWORK 1**\n",
    "Build a classifier for fashion MNIST.\n",
    "\n",
    "**1. Use exactly the same architectures (both densely connected layers and from convolutional layers) as the above MNIST** e.g., replace the dataset. Save the Jupyter Notebook in its original format and output a PDF file after training, testing, and validation. Make sure to write down how do they perform (training accuracny, testing accuracy).  \n",
    "**2. Improve the architecture**. Experiment with different numbers of layers, size of layers, number of filters, size of filters. You are required to make those adjustment to get the highest accuracy. Watch out for overfitting -- we want the highest testing accuracy!\n",
    "Please provide a PDF file of the result, the best test accuracy and the architecture (different numbers of layers, size of layers, number of filters, size of filters)"
   ]
  },
  {
   "cell_type": "code",
   "execution_count": 1,
   "metadata": {
    "id": "g4CpNyYuySvp"
   },
   "outputs": [],
   "source": [
    "import numpy as np\n",
    "import torch\n",
    "import torch.nn as nn\n",
    "import torch.optim as optim\n",
    "\n",
    "import torchvision\n",
    "import torchvision.transforms as transforms\n",
    "\n",
    "from torchvision.datasets import FashionMNIST\n",
    "import matplotlib.pyplot as plt\n",
    "%matplotlib inline\n",
    "\n",
    "from torch.utils.data import random_split\n",
    "from torch.utils.data import DataLoader\n",
    "import torch.nn.functional as F\n",
    "\n",
    "from PIL import Image\n",
    "#import torchvision.transforms as T"
   ]
  },
  {
   "cell_type": "code",
   "execution_count": 2,
   "metadata": {
    "colab": {
     "base_uri": "https://localhost:8080/"
    },
    "id": "a79RP37Yjqpq",
    "outputId": "4cee4676-d503-44cd-e86a-14efe8fd7c44"
   },
   "outputs": [
    {
     "name": "stderr",
     "output_type": "stream",
     "text": [
      "100%|██████████| 26.4M/26.4M [00:02<00:00, 12.1MB/s]\n",
      "100%|██████████| 29.5k/29.5k [00:00<00:00, 210kB/s]\n",
      "100%|██████████| 4.42M/4.42M [00:01<00:00, 3.88MB/s]\n",
      "100%|██████████| 5.15k/5.15k [00:00<00:00, 11.0MB/s]"
     ]
    },
    {
     "name": "stdout",
     "output_type": "stream",
     "text": [
      "Dataset FashionMNIST\n",
      "    Number of datapoints: 60000\n",
      "    Root location: data/\n",
      "    Split: Train\n",
      "    StandardTransform\n",
      "Transform: ToTensor()\n"
     ]
    },
    {
     "name": "stderr",
     "output_type": "stream",
     "text": [
      "\n"
     ]
    }
   ],
   "source": [
    "data = FashionMNIST(root=\"data/\", download=True, train = True, transform = transforms.ToTensor())\n",
    "data_loader = torch.utils.data.DataLoader(data,\n",
    "                                          batch_size=128,\n",
    "                                          shuffle=True)\n",
    "print(data)"
   ]
  },
  {
   "cell_type": "code",
   "execution_count": 3,
   "metadata": {
    "id": "9QK2qI_jyqHC"
   },
   "outputs": [],
   "source": [
    "labels_dict = {\n",
    " 0: 'T-shirt/top',\n",
    " 1: 'Trouser',\n",
    " 2: 'Pullover',\n",
    " 3: 'Dress',\n",
    " 4: 'Coat',\n",
    " 5: 'Sandal',\n",
    " 6: 'Shirt',\n",
    " 7: 'Sneaker',\n",
    " 8: 'Bag',\n",
    " 9: 'Ankle boot'\n",
    "}"
   ]
  },
  {
   "cell_type": "code",
   "execution_count": 4,
   "metadata": {
    "colab": {
     "base_uri": "https://localhost:8080/",
     "height": 569
    },
    "id": "pgp_0TvoyyxY",
    "outputId": "b45599fe-812b-4a5b-c2af-1da8bd63b794"
   },
   "outputs": [
    {
     "name": "stdout",
     "output_type": "stream",
     "text": [
      "torch.Size([1, 28, 28]) 0\n",
      "tensor([[[0.6510, 0.5961, 0.6196, 0.6196, 0.6275],\n",
      "         [0.6235, 0.6000, 0.6157, 0.6196, 0.6353],\n",
      "         [0.6196, 0.6078, 0.6353, 0.6196, 0.6275],\n",
      "         [0.5961, 0.6275, 0.6196, 0.6314, 0.6275],\n",
      "         [0.5765, 0.6431, 0.6078, 0.6471, 0.6314]]])\n",
      "tensor(1.) tensor(0.)\n"
     ]
    },
    {
     "data": {
      "text/plain": [
       "<matplotlib.image.AxesImage at 0x7dc85ff98790>"
      ]
     },
     "execution_count": 4,
     "metadata": {},
     "output_type": "execute_result"
    },
    {
     "data": {
      "image/png": "[encoded data removed]",
      "text/plain": [
       "<Figure size 640x480 with 1 Axes>"
      ]
     },
     "metadata": {},
     "output_type": "display_data"
    }
   ],
   "source": [
    "# mnist_dataset has 'images as tensors' so that they can't be displayed directly\n",
    "sampleTensor, label = data[10]\n",
    "print(sampleTensor.shape, label)\n",
    "tpil = transforms.ToPILImage() # using the __call__ to\n",
    "image = tpil(sampleTensor)\n",
    "image.show()\n",
    "\n",
    "print(sampleTensor[:,10:15,10:15])\n",
    "print(torch.max(sampleTensor), torch.min(sampleTensor))\n",
    "plt.imshow(sampleTensor[0,:,:],cmap = 'gray')"
   ]
  },
  {
   "cell_type": "code",
   "execution_count": 5,
   "metadata": {
    "colab": {
     "base_uri": "https://localhost:8080/",
     "height": 675
    },
    "id": "7jZ3t9V_zgX5",
    "outputId": "3522d080-ee18-4697-8515-6a440e48742a"
   },
   "outputs": [
    {
     "data": {
      "image/png": "[encoded data removed]",
      "text/plain": [
       "<Figure size 1000x800 with 25 Axes>"
      ]
     },
     "metadata": {},
     "output_type": "display_data"
    }
   ],
   "source": [
    "# Print multiple images at once\n",
    "figure = plt.figure(figsize=(10, 8))\n",
    "cols, rows = 5, 5\n",
    "for i in range(1, cols * rows + 1):\n",
    "    sample_idx = torch.randint(len(data), size=(1,)).item()\n",
    "    img, label = data[sample_idx]\n",
    "    figure.add_subplot(rows, cols, i)\n",
    "    plt.title(label)\n",
    "    plt.axis(\"off\")\n",
    "    plt.imshow(img.squeeze(), cmap=\"gray\")\n",
    "plt.show()"
   ]
  },
  {
   "cell_type": "markdown",
   "metadata": {
    "id": "YMQ0Nt6C6Vsy"
   },
   "source": [
    "# Same architecture"
   ]
  },
  {
   "cell_type": "markdown",
   "metadata": {
    "id": "BCil4WxVz2N4"
   },
   "source": [
    "## Training and validation data\n"
   ]
  },
  {
   "cell_type": "code",
   "execution_count": 6,
   "metadata": {
    "colab": {
     "base_uri": "https://localhost:8080/"
    },
    "id": "5JwVmQsLz5XO",
    "outputId": "1084766b-7355-473e-a968-523010a9ec6b"
   },
   "outputs": [
    {
     "name": "stdout",
     "output_type": "stream",
     "text": [
      "length of Train Datasets:  50000\n",
      "length of Validation Datasets:  10000\n"
     ]
    }
   ],
   "source": [
    "train_data, validation_data = random_split(data, [50000, 10000])\n",
    "## Print the length of train and validation datasets\n",
    "print(\"length of Train Datasets: \", len(train_data))\n",
    "print(\"length of Validation Datasets: \", len(validation_data))\n",
    "\n",
    "batch_size = 128\n",
    "train_loader = DataLoader(train_data, batch_size, shuffle = True)\n",
    "val_loader = DataLoader(validation_data, batch_size, shuffle = False)\n",
    "## MNIST data from pytorch already provides held-out test set!"
   ]
  },
  {
   "cell_type": "markdown",
   "metadata": {
    "id": "h_HEo-sJ0C4J"
   },
   "source": [
    "## Multi-class Logistic Regression (a building block of DNN)"
   ]
  },
  {
   "cell_type": "code",
   "execution_count": 7,
   "metadata": {
    "id": "fWTuMRpl0Dqn"
   },
   "outputs": [],
   "source": [
    "## Basic set up for a logistic regression model (won't be used in practice or for training)\n",
    "input_size = 28 * 28\n",
    "num_classes = 10\n",
    "\n",
    "# we gradually build on this inherited class from pytorch\n",
    "# model = nn.Linear(input_size, num_classes)"
   ]
  },
  {
   "cell_type": "code",
   "execution_count": 8,
   "metadata": {
    "colab": {
     "base_uri": "https://localhost:8080/"
    },
    "id": "tFFDbAGF0GsJ",
    "outputId": "8116ce38-d33c-4ba4-8783-ca55c0bbc46f"
   },
   "outputs": [
    {
     "name": "stdout",
     "output_type": "stream",
     "text": [
      "MnistModel(\n",
      "  (linear): Linear(in_features=784, out_features=10, bias=True)\n",
      ")\n"
     ]
    },
    {
     "data": {
      "text/plain": [
       "[Parameter containing:\n",
       " tensor([[ 0.0169,  0.0246, -0.0012,  ...,  0.0279, -0.0153,  0.0277],\n",
       "         [-0.0205, -0.0274,  0.0277,  ...,  0.0037, -0.0349,  0.0141],\n",
       "         [-0.0039, -0.0347,  0.0204,  ..., -0.0117,  0.0237, -0.0054],\n",
       "         ...,\n",
       "         [ 0.0015,  0.0166,  0.0246,  ...,  0.0302, -0.0279, -0.0190],\n",
       "         [-0.0027,  0.0070,  0.0087,  ...,  0.0178, -0.0053, -0.0102],\n",
       "         [ 0.0034, -0.0027,  0.0241,  ...,  0.0019,  0.0029, -0.0075]],\n",
       "        requires_grad=True),\n",
       " Parameter containing:\n",
       " tensor([-0.0327, -0.0137, -0.0026, -0.0227, -0.0261, -0.0033,  0.0325,  0.0036,\n",
       "         -0.0171,  0.0103], requires_grad=True)]"
      ]
     },
     "execution_count": 8,
     "metadata": {},
     "output_type": "execute_result"
    }
   ],
   "source": [
    "# Slowly build the model, first with basic\n",
    "class MnistModel(nn.Module):\n",
    "    def __init__(self):\n",
    "        super().__init__()\n",
    "        self.linear = nn.Linear(input_size, num_classes)\n",
    "\n",
    "    def forward(self, xb):\n",
    "        # view xb with two dimensions, 28 * 28(i.e 784)\n",
    "        # One argument to .reshape can be set to -1(in this case the first dimension),\n",
    "        # to let PyTorch figure it out automatically based on the shape of the original tensor.\n",
    "        xb = xb.reshape(-1, 784)\n",
    "        print(xb)\n",
    "        out = self.linear(xb)\n",
    "        print(out)\n",
    "        return(out)\n",
    "\n",
    "model = MnistModel()\n",
    "print(model)\n",
    "list(model.parameters())"
   ]
  },
  {
   "cell_type": "code",
   "execution_count": 9,
   "metadata": {
    "colab": {
     "base_uri": "https://localhost:8080/"
    },
    "id": "4ZY7lT290Lww",
    "outputId": "70047374-1929-4958-d61a-b562801f6263"
   },
   "outputs": [
    {
     "name": "stdout",
     "output_type": "stream",
     "text": [
      "tensor([[0., 0., 0.,  ..., 0., 0., 0.],\n",
      "        [0., 0., 0.,  ..., 0., 0., 0.],\n",
      "        [0., 0., 0.,  ..., 0., 0., 0.],\n",
      "        ...,\n",
      "        [0., 0., 0.,  ..., 0., 0., 0.],\n",
      "        [0., 0., 0.,  ..., 0., 0., 0.],\n",
      "        [0., 0., 0.,  ..., 0., 0., 0.]])\n",
      "tensor([[-0.0230, -0.1354, -0.3213,  ..., -0.0576, -0.0507, -0.0140],\n",
      "        [ 0.0815,  0.4139, -0.1588,  ..., -0.4338,  0.0424,  0.3543],\n",
      "        [ 0.3251,  0.3702, -0.0294,  ..., -0.5192, -0.0930,  0.5795],\n",
      "        ...,\n",
      "        [ 0.2566,  0.4351, -0.0308,  ..., -0.3130, -0.0233,  0.3533],\n",
      "        [ 0.3122,  0.2628, -0.0397,  ..., -0.4359, -0.0640,  0.5627],\n",
      "        [ 0.1528,  0.2177,  0.0875,  ..., -0.3824, -0.1661,  0.4313]],\n",
      "       grad_fn=<AddmmBackward0>)\n",
      "Outputs shape:  torch.Size([128, 10])\n",
      "Sample outputs: \n",
      " tensor([[-0.0230, -0.1354, -0.3213, -0.1971, -0.1424, -0.2124, -0.0789, -0.0576,\n",
      "         -0.0507, -0.0140],\n",
      "        [ 0.0815,  0.4139, -0.1588, -0.5258, -0.0114, -0.4722,  0.0043, -0.4338,\n",
      "          0.0424,  0.3543]])\n"
     ]
    }
   ],
   "source": [
    "# Alway check the dimensions and sample data/image\n",
    "for images, labels in train_loader:\n",
    "    outputs = model(images)\n",
    "    break\n",
    "\n",
    "print('Outputs shape: ', outputs.shape) # torch.Size([128, 10])\n",
    "print('Sample outputs: \\n', outputs[:2].data) # example outputs"
   ]
  },
  {
   "cell_type": "markdown",
   "metadata": {
    "id": "N_X58gER0Psb"
   },
   "source": [
    "##Softmax function"
   ]
  },
  {
   "cell_type": "code",
   "execution_count": 10,
   "metadata": {
    "colab": {
     "base_uri": "https://localhost:8080/"
    },
    "id": "tG67UArx0Svr",
    "outputId": "56e74833-2456-495d-8579-9898c5e07a83"
   },
   "outputs": [
    {
     "name": "stdout",
     "output_type": "stream",
     "text": [
      "Sample probabilities:\n",
      " tensor([[0.1101, 0.0984, 0.0817, 0.0925, 0.0977, 0.0911, 0.1041, 0.1063, 0.1071,\n",
      "         0.1111],\n",
      "        [0.1110, 0.1548, 0.0873, 0.0605, 0.1011, 0.0638, 0.1027, 0.0663, 0.1067,\n",
      "         0.1458]])\n"
     ]
    }
   ],
   "source": [
    "## Apply softmax for each output row\n",
    "probs = F.softmax(outputs, dim = 1)\n",
    "\n",
    "## chaecking at sample probabilities\n",
    "print(\"Sample probabilities:\\n\", probs[:2].data)"
   ]
  },
  {
   "cell_type": "markdown",
   "metadata": {
    "id": "jexsGRvh0YRE"
   },
   "source": [
    "## Evaluation Metric and Loss Function\n"
   ]
  },
  {
   "cell_type": "code",
   "execution_count": 11,
   "metadata": {
    "colab": {
     "base_uri": "https://localhost:8080/"
    },
    "id": "jGha1ui_0Yi4",
    "outputId": "2d16e0b1-9849-49d0-9711-3bd0f97b77bb"
   },
   "outputs": [
    {
     "name": "stdout",
     "output_type": "stream",
     "text": [
      "Accuracy:  tensor(0.0938)\n",
      "\n",
      "\n",
      "Loss Function:  <function cross_entropy at 0x7dc948151bc0>\n",
      "\n",
      "\n",
      "tensor(2.3265, grad_fn=<NllLossBackward0>)\n"
     ]
    }
   ],
   "source": [
    "# accuracy calculation\n",
    "def accuracy(outputs, labels):\n",
    "    _, preds = torch.max(outputs, dim = 1)\n",
    "    return(torch.tensor(torch.sum(preds == labels).item()/ len(preds)))\n",
    "\n",
    "print(\"Accuracy: \", accuracy(outputs, labels))\n",
    "print(\"\\n\")\n",
    "loss_fn = F.cross_entropy\n",
    "print(\"Loss Function: \",loss_fn)\n",
    "print(\"\\n\")\n",
    "## Loss for the current batch\n",
    "loss = loss_fn(outputs, labels)\n",
    "print(loss)"
   ]
  },
  {
   "cell_type": "markdown",
   "metadata": {
    "id": "XLSiW_zG0eT5"
   },
   "source": [
    "## Cross-Entropy"
   ]
  },
  {
   "cell_type": "code",
   "execution_count": 12,
   "metadata": {
    "id": "So5gNzcC0gQ8"
   },
   "outputs": [],
   "source": [
    "# We put all of the above:\n",
    "class MnistModel(nn.Module):\n",
    "    def __init__(self):\n",
    "        super().__init__()\n",
    "        self.linear = nn.Linear(input_size, num_classes)\n",
    "\n",
    "    def forward(self, xb):\n",
    "        xb = xb.reshape(-1, 784)\n",
    "        out = self.linear(xb)\n",
    "        return(out)\n",
    "\n",
    "    # We add extra methods\n",
    "    def training_step(self, batch):\n",
    "        # when training, we compute the cross entropy, which help us update weights\n",
    "        images, labels = batch\n",
    "        out = self(images) ## Generate predictions\n",
    "        loss = F.cross_entropy(out, labels) ## Calculate the loss\n",
    "        return(loss)\n",
    "\n",
    "    def validation_step(self, batch):\n",
    "        images, labels = batch\n",
    "        out = self(images) ## Generate predictions\n",
    "        loss = F.cross_entropy(out, labels) ## Calculate the loss\n",
    "        # in validation, we want to also look at the accuracy\n",
    "        # idealy, we would like to save the model when the accuracy is the highest.\n",
    "        acc = accuracy(out, labels) ## calculate metrics/accuracy\n",
    "        return({'val_loss':loss, 'val_acc': acc})\n",
    "\n",
    "    def validation_epoch_end(self, outputs):\n",
    "        # at the end of epoch (after running through all the batches)\n",
    "        batch_losses = [x['val_loss'] for x in outputs]\n",
    "        epoch_loss = torch.stack(batch_losses).mean()\n",
    "        batch_accs = [x['val_acc'] for x in outputs]\n",
    "        epoch_acc = torch.stack(batch_accs).mean()\n",
    "        return({'val_loss': epoch_loss.item(), 'val_acc' : epoch_acc.item()})\n",
    "\n",
    "    def epoch_end(self, epoch,result):\n",
    "        # log epoch, loss, metrics\n",
    "        print(\"Epoch [{}], val_loss: {:.4f}, val_acc: {:.4f}\".format(epoch, result['val_loss'], result['val_acc']))\n",
    "\n",
    "# a simple helper function to evaluate\n",
    "def evaluate(model, data_loader):\n",
    "    # for batch in data_loader, run validation_step\n",
    "    outputs = [model.validation_step(batch) for batch in data_loader]\n",
    "    return(model.validation_epoch_end(outputs))\n",
    "\n",
    "# actually training\n",
    "def fit(epochs, lr, model, train_loader, val_loader, opt_func = torch.optim.SGD):\n",
    "    history = []\n",
    "    optimizer = opt_func(model.parameters(), lr)\n",
    "    for epoch in range(epochs):\n",
    "        ## Training Phase\n",
    "        for batch in train_loader:\n",
    "            loss = model.training_step(batch)\n",
    "            loss.backward() ## backpropagation starts at the loss and goes through all layers to model inputs\n",
    "            optimizer.step() ## the optimizer iterate over all parameters (tensors); use their stored grad to update their values\n",
    "            optimizer.zero_grad() ## reset gradients\n",
    "\n",
    "        ## Validation phase\n",
    "        result = evaluate(model, val_loader)\n",
    "        model.epoch_end(epoch, result)\n",
    "        history.append(result)\n",
    "    return(history)"
   ]
  },
  {
   "cell_type": "code",
   "execution_count": 14,
   "metadata": {
    "colab": {
     "base_uri": "https://localhost:8080/"
    },
    "id": "TKCQjXZX0mei",
    "outputId": "1ac40d64-8885-4f0c-878e-89db44d87d29"
   },
   "outputs": [
    {
     "data": {
      "text/plain": [
       "{'val_loss': 2.3322653770446777, 'val_acc': 0.10917721688747406}"
      ]
     },
     "execution_count": 14,
     "metadata": {},
     "output_type": "execute_result"
    }
   ],
   "source": [
    "# test the functions, with a randomly initialized model (weights are random, e.g., untrained)\n",
    "model = MnistModel()\n",
    "result0 = evaluate(model, val_loader)\n",
    "result0"
   ]
  },
  {
   "cell_type": "code",
   "execution_count": 15,
   "metadata": {
    "colab": {
     "base_uri": "https://localhost:8080/"
    },
    "id": "Z5opILtS4QCn",
    "outputId": "8280e5af-af4d-4725-ac2b-d33fd0364578"
   },
   "outputs": [
    {
     "name": "stdout",
     "output_type": "stream",
     "text": [
      "Epoch [0], val_loss: 1.6982, val_acc: 0.6304\n",
      "Epoch [1], val_loss: 1.4095, val_acc: 0.6614\n",
      "Epoch [2], val_loss: 1.2450, val_acc: 0.6695\n",
      "Epoch [3], val_loss: 1.1395, val_acc: 0.6782\n",
      "Epoch [4], val_loss: 1.0656, val_acc: 0.6830\n",
      "Epoch [5], val_loss: 1.0111, val_acc: 0.6945\n",
      "Epoch [6], val_loss: 0.9684, val_acc: 0.7024\n",
      "Epoch [7], val_loss: 0.9340, val_acc: 0.7073\n",
      "Epoch [8], val_loss: 0.9057, val_acc: 0.7166\n",
      "Epoch [9], val_loss: 0.8816, val_acc: 0.7230\n"
     ]
    }
   ],
   "source": [
    "# let's train for 10 epochs\n",
    "history1 = fit(10, 0.001, model, train_loader, val_loader)"
   ]
  },
  {
   "cell_type": "code",
   "execution_count": 16,
   "metadata": {
    "colab": {
     "base_uri": "https://localhost:8080/",
     "height": 489
    },
    "id": "4CUpXKJL0nlr",
    "outputId": "114b487b-b60b-423d-9c87-de7a4065040b"
   },
   "outputs": [
    {
     "data": {
      "text/plain": [
       "Text(0.5, 1.0, 'Accuracy over epochs')"
      ]
     },
     "execution_count": 16,
     "metadata": {},
     "output_type": "execute_result"
    },
    {
     "data": {
      "image/png": "[encoded data removed]",
      "text/plain": [
       "<Figure size 640x480 with 1 Axes>"
      ]
     },
     "metadata": {},
     "output_type": "display_data"
    }
   ],
   "source": [
    "# we combine the first result (no training) and the training results of 5 epoches\n",
    "# plotting accuracy\n",
    "history = [result0] + history1\n",
    "accuracies = [result['val_acc'] for result in history]\n",
    "plt.plot(accuracies, '-x')\n",
    "plt.xlabel('epoch')\n",
    "plt.ylabel('accuracy')\n",
    "plt.title('Accuracy over epochs')"
   ]
  },
  {
   "cell_type": "code",
   "execution_count": 17,
   "metadata": {
    "colab": {
     "base_uri": "https://localhost:8080/",
     "height": 489
    },
    "id": "_5gG0a2d0rO4",
    "outputId": "ae026b67-1f63-4d08-e3c9-c31e33a4a034"
   },
   "outputs": [
    {
     "data": {
      "text/plain": [
       "Text(0.5, 1.0, 'Losses  over epochs')"
      ]
     },
     "execution_count": 17,
     "metadata": {},
     "output_type": "execute_result"
    },
    {
     "data": {
      "image/png": "[encoded data removed]",
      "text/plain": [
       "<Figure size 640x480 with 1 Axes>"
      ]
     },
     "metadata": {},
     "output_type": "display_data"
    }
   ],
   "source": [
    "# plotting losses\n",
    "history = [result0] + history1\n",
    "losses = [result['val_loss'] for result in history]\n",
    "plt.plot(losses, '-x')\n",
    "plt.xlabel('epoch')\n",
    "plt.ylabel('losses')\n",
    "plt.title('Losses  over epochs')"
   ]
  },
  {
   "cell_type": "markdown",
   "metadata": {
    "id": "kTx9EWWx0v_d"
   },
   "source": [
    "## Final check using the (held-out) test dataset."
   ]
  },
  {
   "cell_type": "code",
   "execution_count": 18,
   "metadata": {
    "colab": {
     "base_uri": "https://localhost:8080/",
     "height": 482
    },
    "id": "sz6kSJ1Y0t3G",
    "outputId": "575200ff-ebab-4c38-f4f4-8063fb366b18"
   },
   "outputs": [
    {
     "name": "stdout",
     "output_type": "stream",
     "text": [
      "Length of Test Datasets:  10000\n",
      "Shape:  torch.Size([1, 28, 28])\n",
      "Label: Ankle boot (9)\n"
     ]
    },
    {
     "data": {
      "image/png": "[encoded data removed]",
      "text/plain": [
       "<Figure size 640x480 with 1 Axes>"
      ]
     },
     "metadata": {},
     "output_type": "display_data"
    }
   ],
   "source": [
    "# Testing with individual images\n",
    "## Define the test dataset\n",
    "test_dataset = FashionMNIST(root = 'data/', train = False, transform = transforms.ToTensor())\n",
    "print(\"Length of Test Datasets: \", len(test_dataset))\n",
    "img, label = test_dataset[0]\n",
    "plt.imshow(img[0], cmap = 'gray')\n",
    "print(\"Shape: \", img.shape)\n",
    "print(f'Label: {labels_dict[label]} ({label})')\n"
   ]
  },
  {
   "cell_type": "code",
   "execution_count": 19,
   "metadata": {
    "colab": {
     "base_uri": "https://localhost:8080/"
    },
    "id": "vkMRjz9p09bq",
    "outputId": "ed09bac0-c882-4503-fd7f-61d99bf93d43"
   },
   "outputs": [
    {
     "name": "stdout",
     "output_type": "stream",
     "text": [
      "Label: Ankle boot (9),  Predicted : Ankle boot (9) \n"
     ]
    }
   ],
   "source": [
    "def predict_image(img, model):\n",
    "    xb = img.unsqueeze(0)\n",
    "    yb = model(xb)\n",
    "    _, preds = torch.max(yb, dim = 1)\n",
    "    return(preds[0].item())\n",
    "\n",
    "img, label = test_dataset[0]\n",
    "pred_label = predict_image(img, model)\n",
    "\n",
    "print(f'Label: {labels_dict[label]} ({label}),  Predicted : {labels_dict[pred_label]} ({pred_label}) ')"
   ]
  },
  {
   "cell_type": "code",
   "execution_count": 20,
   "metadata": {
    "colab": {
     "base_uri": "https://localhost:8080/"
    },
    "id": "z9nZBE441Ckh",
    "outputId": "04230303-2eca-407c-d829-ee4f4d6f810e"
   },
   "outputs": [
    {
     "data": {
      "text/plain": [
       "{'val_loss': 0.8951730728149414, 'val_acc': 0.707226574420929}"
      ]
     },
     "execution_count": 20,
     "metadata": {},
     "output_type": "execute_result"
    }
   ],
   "source": [
    "# the final check on the test dataset (not used in any training)\n",
    "test_loader = DataLoader(test_dataset, batch_size = 256, shuffle = False)\n",
    "result = evaluate(model, test_loader)\n",
    "result"
   ]
  },
  {
   "cell_type": "markdown",
   "metadata": {
    "id": "9BM8ZAp71FCJ"
   },
   "source": [
    "## CNN"
   ]
  },
  {
   "cell_type": "code",
   "execution_count": 21,
   "metadata": {
    "colab": {
     "base_uri": "https://localhost:8080/"
    },
    "id": "nwcPxGot1F_l",
    "outputId": "e7d914ec-2e98-472c-df88-d5ff8e4171d4"
   },
   "outputs": [
    {
     "name": "stdout",
     "output_type": "stream",
     "text": [
      "CNN(\n",
      "  (conv1): Sequential(\n",
      "    (0): Conv2d(1, 16, kernel_size=(5, 5), stride=(1, 1), padding=(2, 2))\n",
      "    (1): ReLU()\n",
      "    (2): MaxPool2d(kernel_size=2, stride=2, padding=0, dilation=1, ceil_mode=False)\n",
      "  )\n",
      "  (conv2): Sequential(\n",
      "    (0): Conv2d(16, 32, kernel_size=(5, 5), stride=(1, 1), padding=(2, 2))\n",
      "    (1): ReLU()\n",
      "    (2): MaxPool2d(kernel_size=2, stride=2, padding=0, dilation=1, ceil_mode=False)\n",
      "  )\n",
      "  (out): Linear(in_features=1568, out_features=10, bias=True)\n",
      ")\n"
     ]
    }
   ],
   "source": [
    "# We construct a fundamental CNN class.\n",
    "class CNN(nn.Module):\n",
    "    def __init__(self):\n",
    "        super(CNN, self).__init__()\n",
    "        self.conv1 = nn.Sequential(\n",
    "            nn.Conv2d(\n",
    "                in_channels=1,\n",
    "                out_channels=16,\n",
    "                kernel_size=5,\n",
    "                stride=1,\n",
    "                padding=2,\n",
    "            ),\n",
    "            nn.ReLU(),\n",
    "            nn.MaxPool2d(kernel_size=2),\n",
    "        )\n",
    "        self.conv2 = nn.Sequential(\n",
    "            nn.Conv2d(16, 32, 5, 1, 2),\n",
    "            nn.ReLU(),\n",
    "            nn.MaxPool2d(2),\n",
    "        )\n",
    "        # fully connected layer, output 10 classes\n",
    "        self.out = nn.Linear(32 * 7 * 7, 10)\n",
    "    def forward(self, x):\n",
    "        x = self.conv1(x)\n",
    "        x = self.conv2(x)\n",
    "        # flatten the output of conv2 to (batch_size, 32 * 7 * 7)\n",
    "        x = x.view(x.size(0), -1)\n",
    "        output = self.out(x)\n",
    "        return output, x    # return x for visualization\n",
    "\n",
    "cnn = CNN()\n",
    "print(cnn)"
   ]
  },
  {
   "cell_type": "code",
   "execution_count": 22,
   "metadata": {
    "colab": {
     "base_uri": "https://localhost:8080/"
    },
    "id": "DtRFZJb01I3n",
    "outputId": "ba8a2dfa-baa1-4e12-9ee7-099c1b6b3294"
   },
   "outputs": [
    {
     "data": {
      "text/plain": [
       "Adam (\n",
       "Parameter Group 0\n",
       "    amsgrad: False\n",
       "    betas: (0.9, 0.999)\n",
       "    capturable: False\n",
       "    differentiable: False\n",
       "    eps: 1e-08\n",
       "    foreach: None\n",
       "    fused: None\n",
       "    lr: 0.01\n",
       "    maximize: False\n",
       "    weight_decay: 0\n",
       ")"
      ]
     },
     "execution_count": 22,
     "metadata": {},
     "output_type": "execute_result"
    }
   ],
   "source": [
    "loss_func = nn.CrossEntropyLoss()\n",
    "loss_func\n",
    "\n",
    "# unlike earlier example using optim.SGD, we use optim.Adam as the optimizer\n",
    "# lr(Learning Rate): Rate at which our model updates the weights in the cells each time back-propagation is done.\n",
    "optimizer = optim.Adam(cnn.parameters(), lr = 0.01)\n",
    "optimizer"
   ]
  },
  {
   "cell_type": "code",
   "execution_count": 23,
   "metadata": {
    "id": "i8Cchl6l1Nc0"
   },
   "outputs": [],
   "source": [
    "# train_data, validation_data = random_split(mnist_dataset, [50000, 10000])\n",
    "# ## Print the length of train and validation datasets\n",
    "# print(\"length of Train Datasets: \", len(train_data))\n",
    "# print(\"length of Validation Datasets: \", len(validation_data))\n",
    "\n",
    "# batch_size = 128\n",
    "# train_loader = DataLoader(train_data, batch_size, shuffle = True)\n",
    "# val_loader = DataLoader(validation_data, batch_size, shuffle = False)\n",
    "from torch.autograd import Variable\n",
    "\n",
    "def train(num_epochs, cnn, loaders):\n",
    "    cnn.train()\n",
    "    optimizer = optim.Adam(cnn.parameters(), lr = 0.01)\n",
    "    loss_func = nn.CrossEntropyLoss()\n",
    "    # Train the model\n",
    "    total_step = len(loaders)\n",
    "\n",
    "    for epoch in range(num_epochs):\n",
    "        for i, (images, labels) in enumerate(loaders):\n",
    "\n",
    "            # gives batch data, normalize x when iterate train_loader\n",
    "            b_x = Variable(images)   # batch x\n",
    "            b_y = Variable(labels)   # batch y\n",
    "            output = cnn(b_x)[0]\n",
    "            loss = loss_func(output, b_y)\n",
    "\n",
    "            # clear gradients for this training step\n",
    "            optimizer.zero_grad()\n",
    "\n",
    "            # backpropagation, compute gradients\n",
    "            loss.backward()\n",
    "            # apply gradients\n",
    "            optimizer.step()\n",
    "\n",
    "            if (i+1) % 100 == 0:\n",
    "                print ('Epoch [{}/{}], Step [{}/{}], Loss: {:.4f}'.format(epoch + 1, num_epochs, i + 1, total_step, loss.item()))\n",
    "                pass\n",
    "        pass\n",
    "    pass"
   ]
  },
  {
   "cell_type": "code",
   "execution_count": 24,
   "metadata": {
    "colab": {
     "base_uri": "https://localhost:8080/"
    },
    "id": "44syd4Ux1PHs",
    "outputId": "64aee408-d930-43d7-cee0-7529c4a89e93"
   },
   "outputs": [
    {
     "name": "stdout",
     "output_type": "stream",
     "text": [
      "Accuracy of the model on the 10000 test images: 0.09\n"
     ]
    }
   ],
   "source": [
    "# instiate the CNN model\n",
    "cnn = CNN()\n",
    "# for testing purpose, we calculate the accuracy of the initial\n",
    "cnn.eval()\n",
    "with torch.no_grad():\n",
    "    correct = 0\n",
    "    total = 0\n",
    "    for images, labels in train_loader:\n",
    "        test_output, last_layer = cnn(images)\n",
    "        pred_y = torch.max(test_output, 1)[1].data.squeeze()\n",
    "        accuracy = (pred_y == labels).sum().item() / float(labels.size(0))\n",
    "        pass\n",
    "print('Accuracy of the model on the 10000 test images: %.2f' % accuracy)\n"
   ]
  },
  {
   "cell_type": "code",
   "execution_count": 25,
   "metadata": {
    "colab": {
     "base_uri": "https://localhost:8080/"
    },
    "id": "XciavtzE1TC9",
    "outputId": "a3da90e2-2e82-46ce-9219-0fb22b62027e"
   },
   "outputs": [
    {
     "name": "stdout",
     "output_type": "stream",
     "text": [
      "Epoch [1/5], Step [100/391], Loss: 0.6062\n",
      "Epoch [1/5], Step [200/391], Loss: 0.3689\n",
      "Epoch [1/5], Step [300/391], Loss: 0.3372\n",
      "Epoch [2/5], Step [100/391], Loss: 0.4148\n",
      "Epoch [2/5], Step [200/391], Loss: 0.2479\n",
      "Epoch [2/5], Step [300/391], Loss: 0.3495\n",
      "Epoch [3/5], Step [100/391], Loss: 0.2951\n",
      "Epoch [3/5], Step [200/391], Loss: 0.2994\n",
      "Epoch [3/5], Step [300/391], Loss: 0.2230\n",
      "Epoch [4/5], Step [100/391], Loss: 0.3181\n",
      "Epoch [4/5], Step [200/391], Loss: 0.3200\n",
      "Epoch [4/5], Step [300/391], Loss: 0.2628\n",
      "Epoch [5/5], Step [100/391], Loss: 0.2678\n",
      "Epoch [5/5], Step [200/391], Loss: 0.2771\n",
      "Epoch [5/5], Step [300/391], Loss: 0.2338\n"
     ]
    }
   ],
   "source": [
    "train(num_epochs=5, cnn=cnn, loaders=train_loader)"
   ]
  },
  {
   "cell_type": "code",
   "execution_count": 26,
   "metadata": {
    "colab": {
     "base_uri": "https://localhost:8080/"
    },
    "id": "Lr-IJa4N1UiC",
    "outputId": "143620cd-f10e-4c45-f174-cbb9e452d03b"
   },
   "outputs": [
    {
     "name": "stdout",
     "output_type": "stream",
     "text": [
      "Test Accuracy of the model on the 10000 test images: 0.93\n"
     ]
    }
   ],
   "source": [
    "# Test the model, after the training\n",
    "cnn.eval()\n",
    "with torch.no_grad():\n",
    "    correct = 0\n",
    "    total = 0\n",
    "    for images, labels in train_loader:\n",
    "        test_output, last_layer = cnn(images)\n",
    "        pred_y = torch.max(test_output, 1)[1].data.squeeze()\n",
    "        accuracy = (pred_y == labels).sum().item() / float(labels.size(0))\n",
    "        pass\n",
    "print('Test Accuracy of the model on the 10000 test images: %.2f' % accuracy)\n"
   ]
  },
  {
   "cell_type": "code",
   "execution_count": 27,
   "metadata": {
    "colab": {
     "base_uri": "https://localhost:8080/"
    },
    "id": "j52S2xrm1Vpo",
    "outputId": "b7613a5a-4bfd-4761-e59e-bdd5ade381f5"
   },
   "outputs": [
    {
     "name": "stdout",
     "output_type": "stream",
     "text": [
      "Test Accuracy of the model on the 10000 test images: 0.88\n"
     ]
    }
   ],
   "source": [
    "# Test the model, after the training\n",
    "cnn.eval()\n",
    "with torch.no_grad():\n",
    "    correct = 0\n",
    "    total = 0\n",
    "    for images, labels in test_loader:\n",
    "        test_output, last_layer = cnn(images)\n",
    "        pred_y = torch.max(test_output, 1)[1].data.squeeze()\n",
    "        accuracy = (pred_y == labels).sum().item() / float(labels.size(0))\n",
    "        pass\n",
    "print('Test Accuracy of the model on the 10000 test images: %.2f' % accuracy)\n"
   ]
  },
  {
   "cell_type": "code",
   "execution_count": 28,
   "metadata": {
    "colab": {
     "base_uri": "https://localhost:8080/"
    },
    "id": "lNhx52Lz1bqO",
    "outputId": "7b29c106-454a-4e04-e4fc-841f1f6d9998"
   },
   "outputs": [
    {
     "name": "stdout",
     "output_type": "stream",
     "text": [
      "Prediction number: [9 2 1 1 6 1 4 6 5 7]\n",
      "Actual number:     [9 2 1 1 6 1 4 6 5 7]\n"
     ]
    }
   ],
   "source": [
    "sample = next(iter(test_loader))\n",
    "imgs, lbls = sample\n",
    "\n",
    "actual_number = lbls[:10].numpy()\n",
    "actual_number\n",
    "\n",
    "test_output, last_layer = cnn(imgs[:10])\n",
    "pred_y = torch.max(test_output, 1)[1].data.numpy().squeeze()\n",
    "print(f'Prediction number: {pred_y}')\n",
    "print(f'Actual number:     {actual_number}')"
   ]
  }
 ],
 "metadata": {
  "accelerator": "GPU",
  "colab": {
   "gpuType": "T4",
   "provenance": []
  },
  "kernelspec": {
   "display_name": "Python 3 (ipykernel)",
   "language": "python",
   "name": "python3"
  },
  "language_info": {
   "codemirror_mode": {
    "name": "ipython",
    "version": 3
   },
   "file_extension": ".py",
   "mimetype": "text/x-python",
   "name": "python",
   "nbconvert_exporter": "python",
   "pygments_lexer": "ipython3",
   "version": "3.12.3"
  }
 },
 "nbformat": 4,
 "nbformat_minor": 1
}
