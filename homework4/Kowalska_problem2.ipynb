{
 "cells": [
  {
   "cell_type": "markdown",
   "metadata": {
    "id": "3g4jqtdB6YxJ"
   },
   "source": [
    "# Improving the architecture\n",
    "\n",
    "Task:\n",
    "2. Improve the architecture. Experiment with different numbers of layers, size of layers, number of filters, size of filters. You are required to make those adjustment to get the highest accuracy. Watch out for overfitting -- we want the highest testing accuracy! Please provide a PDF file of the result, the best test accuracy and the architecture (different numbers of layers, size of layers, number of filters, size of filters)"
   ]
  },
  {
   "cell_type": "code",
   "execution_count": null,
   "metadata": {
    "id": "ttsGfo6o-r-t"
   },
   "outputs": [],
   "source": [
    "import numpy as np\n",
    "import torch\n",
    "import torch.nn as nn\n",
    "import torch.optim as optim\n",
    "import torchvision\n",
    "import torchvision.transforms as transforms\n",
    "from torchvision.datasets import FashionMNIST\n",
    "import matplotlib.pyplot as plt\n",
    "%matplotlib inline\n",
    "from torch.utils.data import random_split\n",
    "from torch.utils.data import DataLoader\n",
    "import torch.nn.functional as F\n",
    "\n",
    "from PIL import Image"
   ]
  },
  {
   "cell_type": "code",
   "execution_count": null,
   "metadata": {
    "colab": {
     "base_uri": "https://localhost:8080/"
    },
    "id": "jeslFwaA-t_T",
    "outputId": "bf37b8f9-4878-414f-dd6b-417129a0f655"
   },
   "outputs": [
    {
     "name": "stdout",
     "output_type": "stream",
     "text": [
      "Dataset FashionMNIST\n",
      "    Number of datapoints: 60000\n",
      "    Root location: data/\n",
      "    Split: Train\n",
      "    StandardTransform\n",
      "Transform: ToTensor()\n"
     ]
    }
   ],
   "source": [
    "data = FashionMNIST(root=\"data/\", download=True, train = True, transform = transforms.ToTensor())\n",
    "data_loader = torch.utils.data.DataLoader(data,\n",
    "                                          batch_size=128,\n",
    "                                          shuffle=True)\n",
    "labels_dict = {\n",
    " 0: 'T-shirt/top',\n",
    " 1: 'Trouser',\n",
    " 2: 'Pullover',\n",
    " 3: 'Dress',\n",
    " 4: 'Coat',\n",
    " 5: 'Sandal',\n",
    " 6: 'Shirt',\n",
    " 7: 'Sneaker',\n",
    " 8: 'Bag',\n",
    " 9: 'Ankle boot'\n",
    "}\n",
    "print(data)"
   ]
  },
  {
   "cell_type": "code",
   "execution_count": null,
   "metadata": {
    "colab": {
     "base_uri": "https://localhost:8080/"
    },
    "id": "cMWG2E-bLurY",
    "outputId": "1577dc37-3af6-41cc-9797-50838931e3d1"
   },
   "outputs": [
    {
     "name": "stdout",
     "output_type": "stream",
     "text": [
      "length of Train Datasets:  50000\n",
      "length of Validation Datasets:  10000\n"
     ]
    }
   ],
   "source": [
    "train_data, val_data = random_split(data, [50000, 10000])\n",
    "batch_size = 128\n",
    "print(\"length of Train Datasets: \", len(train_data))\n",
    "print(\"length of Validation Datasets: \", len(val_data))\n",
    "train_loader = DataLoader(train_data, batch_size, shuffle=True)\n",
    "val_loader = DataLoader(val_data, batch_size, shuffle=False)\n",
    "\n",
    "test_data = FashionMNIST(root=\"data/\", train=False, transform=transforms.ToTensor())\n",
    "test_loader = DataLoader(test_data, batch_size=256, shuffle=False)\n"
   ]
  },
  {
   "cell_type": "code",
   "execution_count": null,
   "metadata": {
    "id": "oo0sl9DH66oZ"
   },
   "outputs": [],
   "source": [
    "def accuracy(outputs, labels):\n",
    "    _, preds = torch.max(outputs, dim=1)\n",
    "    return torch.tensor(torch.sum(preds == labels).item() / len(preds))\n",
    "\n",
    "def evaluate(model, data_loader):\n",
    "    model.eval()\n",
    "    outputs = []\n",
    "    with torch.no_grad():\n",
    "        for batch in data_loader:\n",
    "            images, labels = batch\n",
    "            out, _ = model(images)\n",
    "            loss = F.cross_entropy(out, labels)\n",
    "            acc = accuracy(out, labels)\n",
    "            outputs.append({'val_loss': loss, 'val_acc': acc})\n",
    "    batch_losses = [x['val_loss'] for x in outputs]\n",
    "    epoch_loss = torch.stack(batch_losses).mean()\n",
    "    batch_accs = [x['val_acc'] for x in outputs]\n",
    "    epoch_acc = torch.stack(batch_accs).mean()\n",
    "    return {'val_loss': epoch_loss.item(), 'val_acc': epoch_acc.item()}\n",
    "\n",
    "\n",
    "def fit(epochs, lr, model, train_loader, val_loader, opt_func=torch.optim.Adam):\n",
    "    history = []\n",
    "    optimizer = opt_func(model.parameters(), lr)\n",
    "    for epoch in range(epochs):\n",
    "        model.train()\n",
    "        for batch in train_loader:\n",
    "            images, labels = batch\n",
    "            out, _ = model(images)\n",
    "            loss = F.cross_entropy(out, labels)\n",
    "            loss.backward()\n",
    "            optimizer.step()\n",
    "            optimizer.zero_grad()\n",
    "        result = evaluate(model, val_loader)\n",
    "        print(f\"Epoch [{epoch}], val_acc: {result['val_acc']:.4f}, val_loss: {result['val_loss']:.4f}\")\n",
    "        history.append(result)\n",
    "    return history\n"
   ]
  },
  {
   "cell_type": "markdown",
   "metadata": {
    "id": "_tVou-Pg7Hvj"
   },
   "source": [
    "## CNN"
   ]
  },
  {
   "cell_type": "code",
   "execution_count": null,
   "metadata": {
    "id": "owPRfGYfMaUo"
   },
   "outputs": [],
   "source": [
    "class ImprovedCNN(nn.Module):\n",
    "    def __init__(self):\n",
    "        super(ImprovedCNN, self).__init__()\n",
    "        self.conv1 = nn.Conv2d(1, 32, kernel_size=3, padding=1)\n",
    "        self.conv2 = nn.Conv2d(32, 64, kernel_size=3, padding=1)\n",
    "        self.conv3 = nn.Conv2d(64, 128, kernel_size=3, padding=1)\n",
    "        self.pool = nn.MaxPool2d(2, 2)\n",
    "        self.dropout = nn.Dropout(0.25)\n",
    "        self.fc1 = nn.Linear(128 * 3 * 3, 128)\n",
    "        self.fc2 = nn.Linear(128, 10)\n",
    "\n",
    "    def forward(self, x):\n",
    "        x = self.pool(F.relu(self.conv1(x)))\n",
    "        x = self.pool(F.relu(self.conv2(x)))\n",
    "        x = self.pool(F.relu(self.conv3(x)))\n",
    "        x = x.view(-1, 128*3*3)\n",
    "        # x = self.dropout(x)\n",
    "        last_layer = F.relu(self.fc1(x))\n",
    "        out = self.fc2(last_layer)\n",
    "        return out, last_layer\n",
    "\n"
   ]
  },
  {
   "cell_type": "code",
   "execution_count": null,
   "metadata": {
    "colab": {
     "base_uri": "https://localhost:8080/"
    },
    "id": "5woy7jw3Mzz2",
    "outputId": "dd3864ca-e6d4-4903-ef4a-944247cb3f94"
   },
   "outputs": [
    {
     "name": "stdout",
     "output_type": "stream",
     "text": [
      "ImprovedCNN(\n",
      "  (conv1): Conv2d(1, 32, kernel_size=(3, 3), stride=(1, 1), padding=(1, 1))\n",
      "  (conv2): Conv2d(32, 64, kernel_size=(3, 3), stride=(1, 1), padding=(1, 1))\n",
      "  (conv3): Conv2d(64, 128, kernel_size=(3, 3), stride=(1, 1), padding=(1, 1))\n",
      "  (pool): MaxPool2d(kernel_size=2, stride=2, padding=0, dilation=1, ceil_mode=False)\n",
      "  (dropout): Dropout(p=0.25, inplace=False)\n",
      "  (fc1): Linear(in_features=1152, out_features=128, bias=True)\n",
      "  (fc2): Linear(in_features=128, out_features=10, bias=True)\n",
      ")\n",
      "{'val_loss': 2.3030495643615723, 'val_acc': 0.10116693377494812}\n"
     ]
    }
   ],
   "source": [
    "cnn = ImprovedCNN()\n",
    "print(cnn)\n",
    "loss_func = nn.CrossEntropyLoss()\n",
    "loss_func\n",
    "# unlike earlier example using optim.SGD, we use optim.Adam as the optimizer\n",
    "# lr(Learning Rate): Rate at which our model updates the weights in the cells each time back-propagation is done.\n",
    "optimizer = optim.Adam(cnn.parameters(), lr = 0.01)\n",
    "optimizer\n",
    "result0 = evaluate(cnn, val_loader)\n",
    "print(result0)\n"
   ]
  },
  {
   "cell_type": "code",
   "execution_count": null,
   "metadata": {
    "colab": {
     "base_uri": "https://localhost:8080/"
    },
    "id": "79x-MXFzRzJ2",
    "outputId": "6a573959-2bb3-463d-c6ba-41a1fc46209c"
   },
   "outputs": [
    {
     "name": "stdout",
     "output_type": "stream",
     "text": [
      "Test Accuracy of the model on the 10000 test images: 84.50\n"
     ]
    }
   ],
   "source": [
    "# for testing purpose, we calculate the accuracy of the initial\n",
    "cnn.eval()\n",
    "with torch.no_grad():\n",
    "    correct = 0\n",
    "    total = 0\n",
    "    for images, labels in test_loader:\n",
    "        out, _ = cnn(images)\n",
    "        _, predicted = torch.max(out, 1)\n",
    "        correct += (predicted == labels).sum().item()\n",
    "        total += labels.size(0)\n",
    "    test_acc = correct / total\n",
    "print('Test Accuracy of the model on the 10000 test images: %.2f' % (test_acc))"
   ]
  },
  {
   "cell_type": "code",
   "execution_count": null,
   "metadata": {
    "colab": {
     "base_uri": "https://localhost:8080/"
    },
    "id": "HaIxpSs_NHz6",
    "outputId": "1f69f197-d827-4510-e0bd-07403473e6be"
   },
   "outputs": [
    {
     "name": "stdout",
     "output_type": "stream",
     "text": [
      "Epoch [0], val_acc: 0.8679, val_loss: 0.3613\n",
      "Epoch [1], val_acc: 0.8719, val_loss: 0.3434\n",
      "Epoch [2], val_acc: 0.8784, val_loss: 0.3444\n",
      "Epoch [3], val_acc: 0.8769, val_loss: 0.3363\n",
      "Epoch [4], val_acc: 0.8785, val_loss: 0.3334\n",
      "Epoch [5], val_acc: 0.8794, val_loss: 0.3368\n",
      "Epoch [6], val_acc: 0.8837, val_loss: 0.3206\n",
      "Epoch [7], val_acc: 0.8815, val_loss: 0.3405\n",
      "Epoch [8], val_acc: 0.8832, val_loss: 0.3366\n",
      "Epoch [9], val_acc: 0.8841, val_loss: 0.3299\n"
     ]
    }
   ],
   "source": [
    "# Training\n",
    "history = fit(epochs=10, lr=0.01, model=cnn, train_loader=train_loader, val_loader=val_loader)\n"
   ]
  },
  {
   "cell_type": "code",
   "execution_count": null,
   "metadata": {
    "colab": {
     "base_uri": "https://localhost:8080/",
     "height": 803
    },
    "id": "k2cYVRERSaAb",
    "outputId": "15517a7e-0ad2-4c68-fdab-91240a089809"
   },
   "outputs": [
    {
     "data": {
      "image/png": "[encoded data removed]",
      "text/plain": [
       "<Figure size 800x400 with 1 Axes>"
      ]
     },
     "metadata": {},
     "output_type": "display_data"
    },
    {
     "data": {
      "image/png": "[encoded data removed]",
      "text/plain": [
       "<Figure size 800x400 with 1 Axes>"
      ]
     },
     "metadata": {},
     "output_type": "display_data"
    }
   ],
   "source": [
    "history1 = [result0] + history\n",
    "\n",
    "accuracies = [result['val_acc'] for result in history1]\n",
    "losses = [result['val_loss'] for result in history1]\n",
    "\n",
    "# Plot accuracy\n",
    "plt.figure(figsize=(8, 4))\n",
    "plt.plot(accuracies, '-o', label='Accuracy')\n",
    "plt.xlabel('Epoch')\n",
    "plt.ylabel('Accuracy')\n",
    "plt.title('Accuracy over epochs')\n",
    "plt.grid(True)\n",
    "plt.legend()\n",
    "plt.show()\n",
    "\n",
    "# Plot loss\n",
    "plt.figure(figsize=(8, 4))\n",
    "plt.plot(losses, '-o', color='red', label='Loss')\n",
    "plt.xlabel('Epoch')\n",
    "plt.ylabel('Loss')\n",
    "plt.title('Loss over epochs')\n",
    "plt.grid(True)\n",
    "plt.legend()\n",
    "plt.show()\n"
   ]
  },
  {
   "cell_type": "code",
   "execution_count": null,
   "metadata": {
    "colab": {
     "base_uri": "https://localhost:8080/"
    },
    "id": "CFQLE9QWNONy",
    "outputId": "9530dad5-10d5-4b02-d56d-4031ce6dda91"
   },
   "outputs": [
    {
     "name": "stdout",
     "output_type": "stream",
     "text": [
      "Test accuracy: 0.880859375\n"
     ]
    }
   ],
   "source": [
    "#testing\n",
    "test_result = evaluate(cnn, test_loader)\n",
    "print(\"Test accuracy:\", test_result['val_acc'])"
   ]
  },
  {
   "cell_type": "code",
   "execution_count": null,
   "metadata": {
    "colab": {
     "base_uri": "https://localhost:8080/"
    },
    "id": "13rvslpA7RvX",
    "outputId": "556c0eba-4431-443a-d2d0-398764c3b92a"
   },
   "outputs": [
    {
     "name": "stdout",
     "output_type": "stream",
     "text": [
      "Test Accuracy of the model on the 10000 test images: 88.10\n"
     ]
    }
   ],
   "source": [
    "# Test the model, after the training\n",
    "cnn.eval()\n",
    "with torch.no_grad():\n",
    "    correct = 0\n",
    "    total = 0\n",
    "    for images, labels in test_loader:\n",
    "        out, _ = cnn(images)\n",
    "        _, predicted = torch.max(out, 1)\n",
    "        correct += (predicted == labels).sum().item()\n",
    "        total += labels.size(0)\n",
    "    test_acc = correct / total\n",
    "print('Test Accuracy of the model on the 10000 test images: %.2f' % (test_acc * 100))\n"
   ]
  },
  {
   "cell_type": "code",
   "execution_count": null,
   "metadata": {
    "colab": {
     "base_uri": "https://localhost:8080/"
    },
    "id": "9TY0HQ4zXIm_",
    "outputId": "12e1ea11-ba70-4f33-f3aa-ded3089cab3a"
   },
   "outputs": [
    {
     "name": "stdout",
     "output_type": "stream",
     "text": [
      "Prediction number: [9 2 1 1 6 1 4 4 5 7]\n",
      "Actual number:     [9 2 1 1 6 1 4 6 5 7]\n"
     ]
    }
   ],
   "source": [
    "sample = next(iter(test_loader))\n",
    "imgs, lbls = sample\n",
    "\n",
    "cnn.eval()\n",
    "with torch.no_grad():\n",
    "    outputs,_ = cnn(imgs[:10])\n",
    "\n",
    "    pred_y = torch.max(outputs, 1)[1].cpu().numpy()\n",
    "    actual_number = lbls[:10].cpu().numpy()\n",
    "\n",
    "print(f'Prediction number: {pred_y}')\n",
    "print(f'Actual number:     {actual_number}')\n"
   ]
  }
 ],
 "metadata": {
  "accelerator": "GPU",
  "colab": {
   "gpuType": "T4",
   "provenance": []
  },
  "kernelspec": {
   "display_name": "Python 3 (ipykernel)",
   "language": "python",
   "name": "python3"
  },
  "language_info": {
   "codemirror_mode": {
    "name": "ipython",
    "version": 3
   },
   "file_extension": ".py",
   "mimetype": "text/x-python",
   "name": "python",
   "nbconvert_exporter": "python",
   "pygments_lexer": "ipython3",
   "version": "3.12.3"
  }
 },
 "nbformat": 4,
 "nbformat_minor": 1
}
